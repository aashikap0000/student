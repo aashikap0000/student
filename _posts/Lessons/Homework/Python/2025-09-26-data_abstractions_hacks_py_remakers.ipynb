{
 "cells": [
  {
   "cell_type": "code",
   "execution_count": null,
   "id": "ca7c3f46",
   "metadata": {
    "vscode": {
     "languageId": "yaml"
    }
   },
   "outputs": [],
   "source": [
    "---\n",
    "toc: true\n",
    "comments: false\n",
    "layout: post\n",
    "categories: [CSP Big Idea 3]\n",
    "title: 3.2 Data Abstractions Python Hack\n",
    "author: Jaynee Chauhan, Michelle Ji, Lucas Masterson\n",
    "description: Hack(s) for intro to data abstractions in Python.\n",
    "type: ccc\n",
    "permalink: /csp/big-idea-3/data-abstractions/p4/hacks-py\n",
    "---"
   ]
  },
  {
   "cell_type": "markdown",
   "id": "14d2f5f9",
   "metadata": {},
   "source": [
    "## Python Lab: Simple DBs\n",
    "\n",
    "In this lab, you'll be working on a simple \"database\" system consisting of dictionaries. The idea here is to understand some basic CRUD actions and how you can use data abstractions (dictionaries in this case) to represent redundant, similar data under a unified structure.\n",
    "\n",
    "You'll have to do some research about some Python syntax for this!\n",
    "\n",
    "You can complete the Python lab by simply running your code and getting your outputs in the Jupyter notebook."
   ]
  },
  {
   "cell_type": "code",
   "execution_count": null,
   "id": "04367227",
   "metadata": {},
   "outputs": [],
   "source": [
    "# Our \"database\" is a list of dictionaries, each representing a record (e.g., a student)\n",
    "# Lists allow us to store multiple records in a single variable, making it easy to manage collections of data.\n",
    "db = [\n",
    "    {\"name\": \"Alice\", \"age\": 16, \"grade\": \"A\"},\n",
    "    {\"name\": \"Bob\", \"age\": 17, \"grade\": \"B\"},\n",
    "    {\"name\": \"Charlie\", \"age\": 16, \"grade\": \"C\"}\n",
    "]\n",
    "\n",
    "# Lists provide order and allow us to add, remove, or update records efficiently.\n",
    "# Each element in the list is a dictionary, which abstracts the details of each student.\n",
    "\n",
    "# Function to display all records\n",
    "def display_db(database):\n",
    "    print(\"All records in the list:\")\n",
    "    for i, record in enumerate(database):\n",
    "        print(f\"Index {i}: {record}\")\n",
    "\n",
    "# Function to add a new record\n",
    "def add_record(database):\n",
    "    name = input(\"Enter name: \")\n",
    "    age = int(input(\"Enter age: \"))\n",
    "    grade = input(\"Enter grade: \")\n",
    "    database.append({\"name\": name, \"age\": age, \"grade\": grade})\n",
    "    print(f\"Record for {name} added.\")\n",
    "\n",
    "# Function to find a record by name\n",
    "def find_record(database, search_name):\n",
    "    for record in database:\n",
    "        if record[\"name\"].lower() == search_name.lower():\n",
    "            print(\"Record found:\", record)\n",
    "            return record\n",
    "    print(f\"No record found for name: {search_name}\")\n",
    "    return None\n",
    "\n",
    "# Function to update a record\n",
    "def update_record(database, search_name):\n",
    "    for record in database:\n",
    "        if record[\"name\"].lower() == search_name.lower():\n",
    "            print(\"Current record:\", record)\n",
    "            new_age = input(\"Enter new age (leave blank to keep current): \")\n",
    "            new_grade = input(\"Enter new grade (leave blank to keep current): \")\n",
    "            if new_age.strip():\n",
    "                record[\"age\"] = int(new_age)\n",
    "            if new_grade.strip():\n",
    "                record[\"grade\"] = new_grade\n",
    "            print(\"Record updated:\", record)\n",
    "            return\n",
    "    print(f\"No record found for name: {search_name}\")\n",
    "\n",
    "# Function to delete a record\n",
    "def delete_record(database, search_name):\n",
    "    for i, record in enumerate(database):\n",
    "        if record[\"name\"].lower() == search_name.lower():\n",
    "            del database[i]\n",
    "            print(f\"Record for {search_name} deleted.\")\n",
    "            return\n",
    "    print(f\"No record found for name: {search_name}\")\n",
    "\n",
    "# Example usage\n",
    "# Students: Uncomment and complete the following as you implement\n",
    "display_db(db)\n",
    "add_record(db)\n",
    "find_record(db, \"Alice\")\n",
    "update_record(db, \"Bob\")\n",
    "delete_record(db, \"Charlie\")\n",
    "display_db(db)\n"
   ]
  }
 ],
 "metadata": {
  "language_info": {
   "name": "python"
  }
 },
 "nbformat": 4,
 "nbformat_minor": 5
}
