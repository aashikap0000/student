{
 "cells": [
  {
   "cell_type": "raw",
   "id": "4e3e77eb",
   "metadata": {
    "vscode": {
     "languageId": "raw"
    }
   },
   "source": [
    "---\n",
    "layout: post\n",
    "title: \"Crashers - 3.17 Algorithmic Efficiency Python Hacks\"\n",
    "categories: [Python]\n",
    "tags: [python, javascript, algorithms, lesson, beginner]\n",
    "description: Learn about algorithms and how they can be more or less efficient\n",
    "permalink: /python/algorithmic-efficiency/crashers-hw\n",
    "---"
   ]
  },
  {
   "cell_type": "markdown",
   "id": "825f983c",
   "metadata": {},
   "source": [
    "## Algorithmic Efficiency Hacks: Python\n",
    "\n",
    "Let's test your knowledge on algorithmic efficiency!\n",
    "\n",
    "### Hack 1: How Much Time?\n",
    "\n",
    "#### Objective: write the time complexity of the algorithm below using Big-O notation.\n",
    "(don't worry about special cases such as n = 1 or n = 0)."
   ]
  },
  {
   "cell_type": "code",
   "execution_count": 1,
   "id": "1fc4bcce",
   "metadata": {},
   "outputs": [
    {
     "ename": "KeyboardInterrupt",
     "evalue": "Interrupted by user",
     "output_type": "error",
     "traceback": [
      "\u001b[31m---------------------------------------------------------------------------\u001b[39m",
      "\u001b[31mKeyboardInterrupt\u001b[39m                         Traceback (most recent call last)",
      "\u001b[36mCell\u001b[39m\u001b[36m \u001b[39m\u001b[32mIn[1]\u001b[39m\u001b[32m, line 1\u001b[39m\n\u001b[32m----> \u001b[39m\u001b[32m1\u001b[39m n = \u001b[38;5;28mint\u001b[39m(\u001b[38;5;28;43minput\u001b[39;49m\u001b[43m(\u001b[49m\u001b[43m)\u001b[49m)  \u001b[38;5;66;03m# Example input: 10\u001b[39;00m\n\u001b[32m      3\u001b[39m \u001b[38;5;28;01mfor\u001b[39;00m i \u001b[38;5;129;01min\u001b[39;00m \u001b[38;5;28mrange\u001b[39m(n):\n\u001b[32m      4\u001b[39m     \u001b[38;5;28mprint\u001b[39m(i)\n",
      "\u001b[36mFile \u001b[39m\u001b[32m~/aashikap0000/student-2/venv/lib/python3.13/site-packages/ipykernel/kernelbase.py:1275\u001b[39m, in \u001b[36mKernel.raw_input\u001b[39m\u001b[34m(self, prompt)\u001b[39m\n\u001b[32m   1273\u001b[39m     msg = \u001b[33m\"\u001b[39m\u001b[33mraw_input was called, but this frontend does not support input requests.\u001b[39m\u001b[33m\"\u001b[39m\n\u001b[32m   1274\u001b[39m     \u001b[38;5;28;01mraise\u001b[39;00m StdinNotImplementedError(msg)\n\u001b[32m-> \u001b[39m\u001b[32m1275\u001b[39m \u001b[38;5;28;01mreturn\u001b[39;00m \u001b[38;5;28;43mself\u001b[39;49m\u001b[43m.\u001b[49m\u001b[43m_input_request\u001b[49m\u001b[43m(\u001b[49m\n\u001b[32m   1276\u001b[39m \u001b[43m    \u001b[49m\u001b[38;5;28;43mstr\u001b[39;49m\u001b[43m(\u001b[49m\u001b[43mprompt\u001b[49m\u001b[43m)\u001b[49m\u001b[43m,\u001b[49m\n\u001b[32m   1277\u001b[39m \u001b[43m    \u001b[49m\u001b[38;5;28;43mself\u001b[39;49m\u001b[43m.\u001b[49m\u001b[43m_parent_ident\u001b[49m\u001b[43m[\u001b[49m\u001b[33;43m\"\u001b[39;49m\u001b[33;43mshell\u001b[39;49m\u001b[33;43m\"\u001b[39;49m\u001b[43m]\u001b[49m\u001b[43m,\u001b[49m\n\u001b[32m   1278\u001b[39m \u001b[43m    \u001b[49m\u001b[38;5;28;43mself\u001b[39;49m\u001b[43m.\u001b[49m\u001b[43mget_parent\u001b[49m\u001b[43m(\u001b[49m\u001b[33;43m\"\u001b[39;49m\u001b[33;43mshell\u001b[39;49m\u001b[33;43m\"\u001b[39;49m\u001b[43m)\u001b[49m\u001b[43m,\u001b[49m\n\u001b[32m   1279\u001b[39m \u001b[43m    \u001b[49m\u001b[43mpassword\u001b[49m\u001b[43m=\u001b[49m\u001b[38;5;28;43;01mFalse\u001b[39;49;00m\u001b[43m,\u001b[49m\n\u001b[32m   1280\u001b[39m \u001b[43m\u001b[49m\u001b[43m)\u001b[49m\n",
      "\u001b[36mFile \u001b[39m\u001b[32m~/aashikap0000/student-2/venv/lib/python3.13/site-packages/ipykernel/kernelbase.py:1320\u001b[39m, in \u001b[36mKernel._input_request\u001b[39m\u001b[34m(self, prompt, ident, parent, password)\u001b[39m\n\u001b[32m   1317\u001b[39m \u001b[38;5;28;01mexcept\u001b[39;00m \u001b[38;5;167;01mKeyboardInterrupt\u001b[39;00m:\n\u001b[32m   1318\u001b[39m     \u001b[38;5;66;03m# re-raise KeyboardInterrupt, to truncate traceback\u001b[39;00m\n\u001b[32m   1319\u001b[39m     msg = \u001b[33m\"\u001b[39m\u001b[33mInterrupted by user\u001b[39m\u001b[33m\"\u001b[39m\n\u001b[32m-> \u001b[39m\u001b[32m1320\u001b[39m     \u001b[38;5;28;01mraise\u001b[39;00m \u001b[38;5;167;01mKeyboardInterrupt\u001b[39;00m(msg) \u001b[38;5;28;01mfrom\u001b[39;00m\u001b[38;5;250m \u001b[39m\u001b[38;5;28;01mNone\u001b[39;00m\n\u001b[32m   1321\u001b[39m \u001b[38;5;28;01mexcept\u001b[39;00m \u001b[38;5;167;01mException\u001b[39;00m:\n\u001b[32m   1322\u001b[39m     \u001b[38;5;28mself\u001b[39m.log.warning(\u001b[33m\"\u001b[39m\u001b[33mInvalid Message:\u001b[39m\u001b[33m\"\u001b[39m, exc_info=\u001b[38;5;28;01mTrue\u001b[39;00m)\n",
      "\u001b[31mKeyboardInterrupt\u001b[39m: Interrupted by user"
     ]
    }
   ],
   "source": [
    "n = int(input())  # Example input: 10\n",
    "\n",
    "for i in range(n):\n",
    "    print(i)\n",
    "\n",
    "# The loop runs n times, and each iteration takes constant time.\n",
    "# Coefficients don't matter in Big-O notation.\n",
    "print(\"Time Complexity: O(n)\")"
   ]
  },
  {
   "cell_type": "markdown",
   "id": "4e562838",
   "metadata": {},
   "source": [
    "### Hack 2: Your Turn!\n",
    "\n",
    "#### Objective: <strong>write</strong> an algorithm with O(n^2) time complexity."
   ]
  },
  {
   "cell_type": "code",
   "execution_count": 2,
   "id": "f9394969",
   "metadata": {},
   "outputs": [
    {
     "ename": "ValueError",
     "evalue": "invalid literal for int() with base 10: ''",
     "output_type": "error",
     "traceback": [
      "\u001b[31m---------------------------------------------------------------------------\u001b[39m",
      "\u001b[31mValueError\u001b[39m                                Traceback (most recent call last)",
      "\u001b[36mCell\u001b[39m\u001b[36m \u001b[39m\u001b[32mIn[2]\u001b[39m\u001b[32m, line 1\u001b[39m\n\u001b[32m----> \u001b[39m\u001b[32m1\u001b[39m n = \u001b[38;5;28;43mint\u001b[39;49m\u001b[43m(\u001b[49m\u001b[38;5;28;43minput\u001b[39;49m\u001b[43m(\u001b[49m\u001b[43m)\u001b[49m\u001b[43m)\u001b[49m  \u001b[38;5;66;03m# Example input: 10\u001b[39;00m\n\u001b[32m      3\u001b[39m \u001b[38;5;66;03m# Nested loops to create O(n^2) time complexity\u001b[39;00m\n\u001b[32m      4\u001b[39m \u001b[38;5;28;01mfor\u001b[39;00m i \u001b[38;5;129;01min\u001b[39;00m \u001b[38;5;28mrange\u001b[39m(n):\n",
      "\u001b[31mValueError\u001b[39m: invalid literal for int() with base 10: ''"
     ]
    }
   ],
   "source": [
    "n = int(input())  # Example input: 10\n",
    "\n",
    "# Nested loops to create O(n^2) time complexity\n",
    "for i in range(n):\n",
    "    for j in range(n):\n",
    "        print(f\"i: {i}, j: {j}\")\n",
    "\n",
    "# Time Complexity: O(n^2)\n",
    "print(\"Time Complexity: O(n^2)\")"
   ]
  },
  {
   "cell_type": "markdown",
   "id": "26d353f3",
   "metadata": {},
   "source": [
    "### Hack 3: Gotta Go Fast!\n",
    "\n",
    "#### Objective: Optimize this algorithm so that it has a lower time complexity <strong>without modifying the outer loop</strong>"
   ]
  },
  {
   "cell_type": "code",
   "execution_count": null,
   "id": "83acbe82",
   "metadata": {},
   "outputs": [
    {
     "name": "stdout",
     "output_type": "stream",
     "text": [
      "42\n"
     ]
    }
   ],
   "source": [
    "import math\n",
    "n = int(input())\n",
    "count = 0\n",
    "\n",
    "for i in range(n):  # Outer loop must stay\n",
    "    # Instead of looping, multiply by the number of iterations\n",
    "    count += math.ceil(math.sqrt(n) * 2)\n",
    "\n",
    "print(count)\n",
    "# Optimized time complexity: O(n) because we removed the inner loop"
   ]
  },
  {
   "cell_type": "markdown",
   "id": "e6e45a7b",
   "metadata": {},
   "source": [
    "### Hack 4: Extra Challenge \n",
    "\n",
    "#### Objective: Write an algorithm that does <strong>NOT</strong> have a time complexity of O(1), O(n), or O(n^x) and identify the time complexity\n",
    "##### (I will not accept O(n^3) or some other power, it needs to be more complex.)"
   ]
  },
  {
   "cell_type": "code",
   "execution_count": null,
   "id": "87c33c6e",
   "metadata": {},
   "outputs": [],
   "source": [
    "n = int(input())\n",
    "\n",
    "# Example: O(n log n) using a merge sort pattern\n",
    "def merge_sort(arr):\n",
    "    if len(arr) <= 1:\n",
    "        return arr\n",
    "    mid = len(arr) // 2\n",
    "    left = merge_sort(arr[:mid])\n",
    "    right = merge_sort(arr[mid:])\n",
    "    \n",
    "    # Merge step (linear)\n",
    "    merged = []\n",
    "    i = j = 0\n",
    "    while i < len(left) and j < len(right):\n",
    "        if left[i] < right[j]:\n",
    "            merged.append(left[i])\n",
    "            i += 1\n",
    "        else:\n",
    "            merged.append(right[j])\n",
    "            j += 1\n",
    "    merged.extend(left[i:])\n",
    "    merged.extend(right[j:])\n",
    "    return merged\n",
    "\n",
    "# Create a sample list and sort it\n",
    "arr = list(range(n, 0, -1))\n",
    "sorted_arr = merge_sort(arr)\n",
    "print(sorted_arr)\n",
    "\n",
    "# Time Complexity: O(n log n)\n"
   ]
  }
 ],
 "metadata": {
  "kernelspec": {
   "display_name": "venv",
   "language": "python",
   "name": "python3"
  },
  "language_info": {
   "codemirror_mode": {
    "name": "ipython",
    "version": 3
   },
   "file_extension": ".py",
   "mimetype": "text/x-python",
   "name": "python",
   "nbconvert_exporter": "python",
   "pygments_lexer": "ipython3",
   "version": "3.13.7"
  }
 },
 "nbformat": 4,
 "nbformat_minor": 5
}
