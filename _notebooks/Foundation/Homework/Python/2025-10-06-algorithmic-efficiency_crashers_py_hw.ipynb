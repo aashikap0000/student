{
 "cells": [
  {
   "cell_type": "raw",
   "id": "4e3e77eb",
   "metadata": {
    "vscode": {
     "languageId": "raw"
    }
   },
   "source": [
    "---\n",
    "layout: post\n",
    "title: \"Crashers - 3.17 Algorithmic Efficiency Python Hacks\"\n",
    "categories: [Python]\n",
    "tags: [python, javascript, algorithms, lesson, beginner]\n",
    "description: Learn about algorithms and how they can be more or less efficient\n",
    "permalink: /python/algorithmic-efficiency/crashers-hw\n",
    "---"
   ]
  },
  {
   "cell_type": "markdown",
   "id": "825f983c",
   "metadata": {},
   "source": [
    "## Algorithmic Efficiency Hacks: Python\n",
    "\n",
    "Let's test your knowledge on algorithmic efficiency!\n",
    "\n",
    "### Hack 1: How Much Time?\n",
    "\n",
    "#### Objective: write the time complexity of the algorithm below using Big-O notation.\n",
    "(don't worry about special cases such as n = 1 or n = 0)."
   ]
  },
  {
   "cell_type": "code",
   "execution_count": 4,
   "id": "1fc4bcce",
   "metadata": {},
   "outputs": [
    {
     "name": "stdout",
     "output_type": "stream",
     "text": [
      "0\n",
      "1\n",
      "2\n",
      "3\n",
      "4\n",
      "5\n",
      "6\n",
      "7\n",
      "8\n",
      "9\n",
      "Time Complexity: O(n)\n"
     ]
    }
   ],
   "source": [
    "n = 10  # instead of input()\n",
    "for i in range(n):\n",
    "    print(i)\n",
    "\n",
    "print(\"Time Complexity: O(n)\")"
   ]
  },
  {
   "cell_type": "markdown",
   "id": "4e562838",
   "metadata": {},
   "source": [
    "### Hack 2: Your Turn!\n",
    "\n",
    "#### Objective: <strong>write</strong> an algorithm with O(n^2) time complexity."
   ]
  },
  {
   "cell_type": "code",
   "execution_count": 5,
   "id": "f9394969",
   "metadata": {},
   "outputs": [
    {
     "name": "stdout",
     "output_type": "stream",
     "text": [
      "i: 0, j: 0\n",
      "i: 0, j: 1\n",
      "i: 0, j: 2\n",
      "i: 0, j: 3\n",
      "i: 0, j: 4\n",
      "i: 0, j: 5\n",
      "i: 0, j: 6\n",
      "i: 0, j: 7\n",
      "i: 0, j: 8\n",
      "i: 0, j: 9\n",
      "i: 1, j: 0\n",
      "i: 1, j: 1\n",
      "i: 1, j: 2\n",
      "i: 1, j: 3\n",
      "i: 1, j: 4\n",
      "i: 1, j: 5\n",
      "i: 1, j: 6\n",
      "i: 1, j: 7\n",
      "i: 1, j: 8\n",
      "i: 1, j: 9\n",
      "i: 2, j: 0\n",
      "i: 2, j: 1\n",
      "i: 2, j: 2\n",
      "i: 2, j: 3\n",
      "i: 2, j: 4\n",
      "i: 2, j: 5\n",
      "i: 2, j: 6\n",
      "i: 2, j: 7\n",
      "i: 2, j: 8\n",
      "i: 2, j: 9\n",
      "i: 3, j: 0\n",
      "i: 3, j: 1\n",
      "i: 3, j: 2\n",
      "i: 3, j: 3\n",
      "i: 3, j: 4\n",
      "i: 3, j: 5\n",
      "i: 3, j: 6\n",
      "i: 3, j: 7\n",
      "i: 3, j: 8\n",
      "i: 3, j: 9\n",
      "i: 4, j: 0\n",
      "i: 4, j: 1\n",
      "i: 4, j: 2\n",
      "i: 4, j: 3\n",
      "i: 4, j: 4\n",
      "i: 4, j: 5\n",
      "i: 4, j: 6\n",
      "i: 4, j: 7\n",
      "i: 4, j: 8\n",
      "i: 4, j: 9\n",
      "i: 5, j: 0\n",
      "i: 5, j: 1\n",
      "i: 5, j: 2\n",
      "i: 5, j: 3\n",
      "i: 5, j: 4\n",
      "i: 5, j: 5\n",
      "i: 5, j: 6\n",
      "i: 5, j: 7\n",
      "i: 5, j: 8\n",
      "i: 5, j: 9\n",
      "i: 6, j: 0\n",
      "i: 6, j: 1\n",
      "i: 6, j: 2\n",
      "i: 6, j: 3\n",
      "i: 6, j: 4\n",
      "i: 6, j: 5\n",
      "i: 6, j: 6\n",
      "i: 6, j: 7\n",
      "i: 6, j: 8\n",
      "i: 6, j: 9\n",
      "i: 7, j: 0\n",
      "i: 7, j: 1\n",
      "i: 7, j: 2\n",
      "i: 7, j: 3\n",
      "i: 7, j: 4\n",
      "i: 7, j: 5\n",
      "i: 7, j: 6\n",
      "i: 7, j: 7\n",
      "i: 7, j: 8\n",
      "i: 7, j: 9\n",
      "i: 8, j: 0\n",
      "i: 8, j: 1\n",
      "i: 8, j: 2\n",
      "i: 8, j: 3\n",
      "i: 8, j: 4\n",
      "i: 8, j: 5\n",
      "i: 8, j: 6\n",
      "i: 8, j: 7\n",
      "i: 8, j: 8\n",
      "i: 8, j: 9\n",
      "i: 9, j: 0\n",
      "i: 9, j: 1\n",
      "i: 9, j: 2\n",
      "i: 9, j: 3\n",
      "i: 9, j: 4\n",
      "i: 9, j: 5\n",
      "i: 9, j: 6\n",
      "i: 9, j: 7\n",
      "i: 9, j: 8\n",
      "i: 9, j: 9\n",
      "Time Complexity: O(n^2)\n"
     ]
    }
   ],
   "source": [
    "n = 10  # Hardcoded value instead of input()\n",
    "\n",
    "# Nested loops to create O(n^2) time complexity\n",
    "for i in range(n):\n",
    "    for j in range(n):\n",
    "        print(f\"i: {i}, j: {j}\")\n",
    "\n",
    "# Time Complexity: O(n^2)\n",
    "print(\"Time Complexity: O(n^2)\")"
   ]
  },
  {
   "cell_type": "markdown",
   "id": "26d353f3",
   "metadata": {},
   "source": [
    "### Hack 3: Gotta Go Fast!\n",
    "\n",
    "#### Objective: Optimize this algorithm so that it has a lower time complexity <strong>without modifying the outer loop</strong>"
   ]
  },
  {
   "cell_type": "code",
   "execution_count": null,
   "id": "83acbe82",
   "metadata": {},
   "outputs": [
    {
     "name": "stdout",
     "output_type": "stream",
     "text": [
      "42\n"
     ]
    }
   ],
   "source": [
    "import math\n",
    "n = int(input())\n",
    "count = 0\n",
    "\n",
    "for i in range(n):  # Outer loop must stay\n",
    "    # Instead of looping, multiply by the number of iterations\n",
    "    count += math.ceil(math.sqrt(n) * 2)\n",
    "\n",
    "print(count)\n",
    "# Optimized time complexity: O(n) because we removed the inner loop"
   ]
  },
  {
   "cell_type": "markdown",
   "id": "e6e45a7b",
   "metadata": {},
   "source": [
    "### Hack 4: Extra Challenge \n",
    "\n",
    "#### Objective: Write an algorithm that does <strong>NOT</strong> have a time complexity of O(1), O(n), or O(n^x) and identify the time complexity\n",
    "##### (I will not accept O(n^3) or some other power, it needs to be more complex.)"
   ]
  },
  {
   "cell_type": "code",
   "execution_count": 6,
   "id": "87c33c6e",
   "metadata": {},
   "outputs": [
    {
     "name": "stdout",
     "output_type": "stream",
     "text": [
      "Sorted array: [1, 2, 3, 4, 5, 6, 7, 8, 9, 10]\n",
      "Time Complexity: O(n log n)\n"
     ]
    }
   ],
   "source": [
    "n = 10  # Hardcoded value instead of input()\n",
    "\n",
    "# Example: O(n log n) using a merge sort pattern\n",
    "def merge_sort(arr):\n",
    "    if len(arr) <= 1:\n",
    "        return arr\n",
    "    mid = len(arr) // 2\n",
    "    left = merge_sort(arr[:mid])\n",
    "    right = merge_sort(arr[mid:])\n",
    "    \n",
    "    # Merge step (linear)\n",
    "    merged = []\n",
    "    i = j = 0\n",
    "    while i < len(left) and j < len(right):\n",
    "        if left[i] < right[j]:\n",
    "            merged.append(left[i])\n",
    "            i += 1\n",
    "        else:\n",
    "            merged.append(right[j])\n",
    "            j += 1\n",
    "    merged.extend(left[i:])\n",
    "    merged.extend(right[j:])\n",
    "    return merged\n",
    "\n",
    "# Create a sample list and sort it\n",
    "arr = list(range(n, 0, -1))\n",
    "sorted_arr = merge_sort(arr)\n",
    "print(\"Sorted array:\", sorted_arr)\n",
    "print(\"Time Complexity: O(n log n)\")\n"
   ]
  }
 ],
 "metadata": {
  "kernelspec": {
   "display_name": "Python 3",
   "language": "python",
   "name": "python3"
  },
  "language_info": {
   "codemirror_mode": {
    "name": "ipython",
    "version": 3
   },
   "file_extension": ".py",
   "mimetype": "text/x-python",
   "name": "python",
   "nbconvert_exporter": "python",
   "pygments_lexer": "ipython3",
   "version": "3.13.5"
  }
 },
 "nbformat": 4,
 "nbformat_minor": 5
}
