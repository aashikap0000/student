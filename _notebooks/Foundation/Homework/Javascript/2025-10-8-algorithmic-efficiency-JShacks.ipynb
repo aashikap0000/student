{
 "cells": [
  {
   "cell_type": "raw",
   "id": "4e3e77eb",
   "metadata": {
    "vscode": {
     "languageId": "raw"
    }
   },
   "source": [
    "---\n",
    "layout: post\n",
    "title: \"3.17 Algorithmic Efficiency Python Lesson\"\n",
    "categories: [Programming Fundamentals, Tutorial]\n",
    "tags: [python, javascript, algorithms, lesson, beginner]\n",
    "description: Learn about algorithms and how they can be more or less efficient\n",
    "permalink: /peppa-maze/algorithmic-efficiency-PYlesson\n",
    "---"
   ]
  },
  {
   "cell_type": "markdown",
   "id": "825f983c",
   "metadata": {},
   "source": [
    "## Algorithmic Efficiency Hacks: Javascript\n",
    "\n",
    "Let's test your knowledge on algorithmic efficiency!\n",
    "\n",
    "### Hack 1: How Much Time?\n",
    "\n",
    "#### Objective: write the time complexity of the algorithm below using Big-O notation.\n",
    "(don't worry about special cases such as n = 1 or n = 0)."
   ]
  },
  {
   "cell_type": "code",
   "execution_count": 19,
   "id": "1fc4bcce",
   "metadata": {
    "vscode": {
     "languageId": "javascript"
    }
   },
   "outputs": [
    {
     "data": {
      "application/javascript": "// The for loop runs from i = 0 to i < n*2, which is exactly 2n iterations.\n// In Big-O notation, constant factors are ignored. So even though it's 2n, the time complexity grows linearly with n.\n\nconsole.log(\"Time Complexity: O(n)\");\n",
      "text/plain": [
       "<IPython.core.display.Javascript object>"
      ]
     },
     "metadata": {},
     "output_type": "display_data"
    }
   ],
   "source": [
    "%%js\n",
    "// The for loop runs from i = 0 to i < n*2, which is exactly 2n iterations.\n",
    "// In Big-O notation, constant factors are ignored. So even though it's 2n, the time complexity grows linearly with n.\n",
    "\n",
    "console.log(\"Time Complexity: O(n)\");"
   ]
  },
  {
   "cell_type": "markdown",
   "id": "4e562838",
   "metadata": {},
   "source": [
    "### Hack 2: Your Turn!\n",
    "\n",
    "#### Objective: <strong>write</strong> an algorithm with O(n^2) time complexity."
   ]
  },
  {
   "cell_type": "code",
   "execution_count": 20,
   "id": "f9394969",
   "metadata": {
    "vscode": {
     "languageId": "javascript"
    }
   },
   "outputs": [
    {
     "data": {
      "application/javascript": "const n = 10;\n\n// Nested loops to create O(n^2) time complexity\nfor (let i = 0; i < n; i++) {\n    for (let j = 0; j < n; j++) {\n        console.log(`i: ${i}, j: ${j}`);\n    }\n}\n\n// Time complexity: O(n^2)\nconsole.log(\"Time Complexity: O(n^2)\");\n",
      "text/plain": [
       "<IPython.core.display.Javascript object>"
      ]
     },
     "metadata": {},
     "output_type": "display_data"
    }
   ],
   "source": [
    "%%js\n",
    "const n = 10;\n",
    "\n",
    "// Nested loops to create O(n^2) time complexity\n",
    "for (let i = 0; i < n; i++) {\n",
    "    for (let j = 0; j < n; j++) {\n",
    "        console.log(`i: ${i}, j: ${j}`);\n",
    "    }\n",
    "}\n",
    "\n",
    "// Time complexity: O(n^2)\n",
    "console.log(\"Time Complexity: O(n^2)\");"
   ]
  },
  {
   "cell_type": "markdown",
   "id": "26d353f3",
   "metadata": {},
   "source": [
    "### Hack 3: Gotta Go Fast!\n",
    "\n",
    "#### Objective: Optimize this algorithm so that it has a lower time complexity <strong>without modifying the outer loop</strong>"
   ]
  },
  {
   "cell_type": "code",
   "execution_count": 22,
   "id": "83acbe82",
   "metadata": {
    "vscode": {
     "languageId": "javascript"
    }
   },
   "outputs": [
    {
     "data": {
      "application/javascript": "const n = 10; // change this\nlet count = 0;\n\nfor (let i = 0; i < n; i++) { // Outer loop, DO NOT MODIFY\n    // Instead of inner loop, use formula for sum of first (i) integers: sum = i*(i-1)/2\n    count += i * (i - 1) / 2;\n}\n\nconsole.log(count);\n// Optimized time complexity: O(n) because we removed the inner loop\n",
      "text/plain": [
       "<IPython.core.display.Javascript object>"
      ]
     },
     "metadata": {},
     "output_type": "display_data"
    }
   ],
   "source": [
    "%%js\n",
    "const n = 10; // change this\n",
    "let count = 0;\n",
    "\n",
    "for (let i = 0; i < n; i++) { // Outer loop, DO NOT MODIFY\n",
    "    // Instead of inner loop, use formula for sum of first (i) integers: sum = i*(i-1)/2\n",
    "    count += i * (i - 1) / 2;\n",
    "}\n",
    "\n",
    "console.log(count);\n",
    "// Optimized time complexity: O(n) because we removed the inner loop"
   ]
  },
  {
   "cell_type": "markdown",
   "id": "e6e45a7b",
   "metadata": {},
   "source": [
    "### Hack 4: Extra Challenge (you might also get extra credit for this one so u should do it)\n",
    "\n",
    "#### Objective: Write an algorithm with a time complexity of O(n*log(n))."
   ]
  },
  {
   "cell_type": "code",
   "execution_count": null,
   "id": "87c33c6e",
   "metadata": {},
   "outputs": [
    {
     "data": {
      "application/javascript": "n = int(input())\n\n# Example: O(n log n) using merge sort pattern\ndef merge_sort(arr):\n    if len(arr) <= 1:\n        return arr\n    mid = len(arr) // 2\n    left = merge_sort(arr[:mid])\n    right = merge_sort(arr[mid:])\n    # Merge step (linear)\n    merged = []\n    i = j = 0\n    while i < len(left) and j < len(right):\n        if left[i] < right[j]:\n            merged.append(left[i])\n            i += 1\n        else:\n            merged.append(right[j])\n            j += 1\n    merged.extend(left[i:])\n    merged.extend(right[j:])\n    return merged\n\n# Create a sample list and sort it\narr = list(range(n, 0, -1))\nsorted_arr = merge_sort(arr)\nprint(sorted_arr)\n\n# Time complexity: O(n log n)\n",
      "text/plain": [
       "<IPython.core.display.Javascript object>"
      ]
     },
     "metadata": {},
     "output_type": "display_data"
    }
   ],
   "source": [
    "%%js\n",
    "n = int(input())\n",
    "\n",
    "# Example: O(n log n) using merge sort pattern\n",
    "def merge_sort(arr):\n",
    "    if len(arr) <= 1:\n",
    "        return arr\n",
    "    mid = len(arr) // 2\n",
    "    left = merge_sort(arr[:mid])\n",
    "    right = merge_sort(arr[mid:])\n",
    "    # Merge step (linear)\n",
    "    merged = []\n",
    "    i = j = 0\n",
    "    while i < len(left) and j < len(right):\n",
    "        if left[i] < right[j]:\n",
    "            merged.append(left[i])\n",
    "            i += 1\n",
    "        else:\n",
    "            merged.append(right[j])\n",
    "            j += 1\n",
    "    merged.extend(left[i:])\n",
    "    merged.extend(right[j:])\n",
    "    return merged\n",
    "\n",
    "# Create a sample list and sort it\n",
    "arr = list(range(n, 0, -1))\n",
    "sorted_arr = merge_sort(arr)\n",
    "print(sorted_arr)\n",
    "\n",
    "# Time complexity: O(n log n)\n"
   ]
  }
 ],
 "metadata": {
  "kernelspec": {
   "display_name": "Python 3",
   "language": "python",
   "name": "python3"
  },
  "language_info": {
   "codemirror_mode": {
    "name": "ipython",
    "version": 3
   },
   "file_extension": ".py",
   "mimetype": "text/x-python",
   "name": "python",
   "nbconvert_exporter": "python",
   "pygments_lexer": "ipython3",
   "version": "3.13.5"
  }
 },
 "nbformat": 4,
 "nbformat_minor": 5
}
